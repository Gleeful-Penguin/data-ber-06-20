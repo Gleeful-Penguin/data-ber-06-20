{
 "cells": [
  {
   "cell_type": "code",
   "execution_count": 5,
   "metadata": {},
   "outputs": [
    {
     "name": "stdout",
     "output_type": "stream",
     "text": [
      "welcome to Dungeon crawler 0.0001 - tessa help\n",
      "Actions: attack or heal: sdedcd\n",
      "\n",
      "Please, choose attack, or heal.\n",
      "\n"
     ]
    },
    {
     "ename": "KeyboardInterrupt",
     "evalue": "Interrupted by user",
     "output_type": "error",
     "traceback": [
      "\u001b[0;31m---------------------------------------------------------------------------\u001b[0m",
      "\u001b[0;31mKeyboardInterrupt\u001b[0m                         Traceback (most recent call last)",
      "\u001b[0;32m<ipython-input-5-aeb2d74f7f73>\u001b[0m in \u001b[0;36m<module>\u001b[0;34m\u001b[0m\n\u001b[1;32m     74\u001b[0m         \u001b[0mplayer_action\u001b[0m\u001b[0;34m(\u001b[0m\u001b[0mactions\u001b[0m\u001b[0;34m)\u001b[0m\u001b[0;34m\u001b[0m\u001b[0;34m\u001b[0m\u001b[0m\n\u001b[1;32m     75\u001b[0m \u001b[0;34m\u001b[0m\u001b[0m\n\u001b[0;32m---> 76\u001b[0;31m \u001b[0mplayer_action\u001b[0m\u001b[0;34m(\u001b[0m\u001b[0mactions\u001b[0m\u001b[0;34m)\u001b[0m\u001b[0;34m\u001b[0m\u001b[0;34m\u001b[0m\u001b[0m\n\u001b[0m",
      "\u001b[0;32m<ipython-input-5-aeb2d74f7f73>\u001b[0m in \u001b[0;36mplayer_action\u001b[0;34m(actions)\u001b[0m\n\u001b[1;32m     27\u001b[0m     \u001b[0;32mwhile\u001b[0m \u001b[0mchoice\u001b[0m \u001b[0;32mnot\u001b[0m \u001b[0;32min\u001b[0m \u001b[0mactions\u001b[0m\u001b[0;34m:\u001b[0m\u001b[0;34m\u001b[0m\u001b[0;34m\u001b[0m\u001b[0m\n\u001b[1;32m     28\u001b[0m         \u001b[0mprint\u001b[0m\u001b[0;34m(\u001b[0m\u001b[0;34m\"\\nPlease, choose attack, or heal.\\n\"\u001b[0m\u001b[0;34m)\u001b[0m\u001b[0;34m\u001b[0m\u001b[0;34m\u001b[0m\u001b[0m\n\u001b[0;32m---> 29\u001b[0;31m         \u001b[0mchoice\u001b[0m \u001b[0;34m=\u001b[0m \u001b[0minput\u001b[0m\u001b[0;34m(\u001b[0m\u001b[0;34m\"Actions: attack or heal: \"\u001b[0m\u001b[0;34m)\u001b[0m\u001b[0;34m.\u001b[0m\u001b[0mlower\u001b[0m\u001b[0;34m(\u001b[0m\u001b[0;34m)\u001b[0m\u001b[0;34m\u001b[0m\u001b[0;34m\u001b[0m\u001b[0m\n\u001b[0m\u001b[1;32m     30\u001b[0m     \u001b[0;32mglobal\u001b[0m \u001b[0mcurrent_player_health\u001b[0m\u001b[0;34m\u001b[0m\u001b[0;34m\u001b[0m\u001b[0m\n\u001b[1;32m     31\u001b[0m     \u001b[0;32mglobal\u001b[0m \u001b[0mcurrent_monster_health\u001b[0m\u001b[0;34m\u001b[0m\u001b[0;34m\u001b[0m\u001b[0m\n",
      "\u001b[0;32m~/opt/miniconda3/envs/Boogie_Woogie/lib/python3.8/site-packages/ipykernel/kernelbase.py\u001b[0m in \u001b[0;36mraw_input\u001b[0;34m(self, prompt)\u001b[0m\n\u001b[1;32m    858\u001b[0m                 \u001b[0;34m\"raw_input was called, but this frontend does not support input requests.\"\u001b[0m\u001b[0;34m\u001b[0m\u001b[0;34m\u001b[0m\u001b[0m\n\u001b[1;32m    859\u001b[0m             )\n\u001b[0;32m--> 860\u001b[0;31m         return self._input_request(str(prompt),\n\u001b[0m\u001b[1;32m    861\u001b[0m             \u001b[0mself\u001b[0m\u001b[0;34m.\u001b[0m\u001b[0m_parent_ident\u001b[0m\u001b[0;34m,\u001b[0m\u001b[0;34m\u001b[0m\u001b[0;34m\u001b[0m\u001b[0m\n\u001b[1;32m    862\u001b[0m             \u001b[0mself\u001b[0m\u001b[0;34m.\u001b[0m\u001b[0m_parent_header\u001b[0m\u001b[0;34m,\u001b[0m\u001b[0;34m\u001b[0m\u001b[0;34m\u001b[0m\u001b[0m\n",
      "\u001b[0;32m~/opt/miniconda3/envs/Boogie_Woogie/lib/python3.8/site-packages/ipykernel/kernelbase.py\u001b[0m in \u001b[0;36m_input_request\u001b[0;34m(self, prompt, ident, parent, password)\u001b[0m\n\u001b[1;32m    902\u001b[0m             \u001b[0;32mexcept\u001b[0m \u001b[0mKeyboardInterrupt\u001b[0m\u001b[0;34m:\u001b[0m\u001b[0;34m\u001b[0m\u001b[0;34m\u001b[0m\u001b[0m\n\u001b[1;32m    903\u001b[0m                 \u001b[0;31m# re-raise KeyboardInterrupt, to truncate traceback\u001b[0m\u001b[0;34m\u001b[0m\u001b[0;34m\u001b[0m\u001b[0;34m\u001b[0m\u001b[0m\n\u001b[0;32m--> 904\u001b[0;31m                 \u001b[0;32mraise\u001b[0m \u001b[0mKeyboardInterrupt\u001b[0m\u001b[0;34m(\u001b[0m\u001b[0;34m\"Interrupted by user\"\u001b[0m\u001b[0;34m)\u001b[0m \u001b[0;32mfrom\u001b[0m \u001b[0;32mNone\u001b[0m\u001b[0;34m\u001b[0m\u001b[0;34m\u001b[0m\u001b[0m\n\u001b[0m\u001b[1;32m    905\u001b[0m             \u001b[0;32mexcept\u001b[0m \u001b[0mException\u001b[0m \u001b[0;32mas\u001b[0m \u001b[0me\u001b[0m\u001b[0;34m:\u001b[0m\u001b[0;34m\u001b[0m\u001b[0;34m\u001b[0m\u001b[0m\n\u001b[1;32m    906\u001b[0m                 \u001b[0mself\u001b[0m\u001b[0;34m.\u001b[0m\u001b[0mlog\u001b[0m\u001b[0;34m.\u001b[0m\u001b[0mwarning\u001b[0m\u001b[0;34m(\u001b[0m\u001b[0;34m\"Invalid Message:\"\u001b[0m\u001b[0;34m,\u001b[0m \u001b[0mexc_info\u001b[0m\u001b[0;34m=\u001b[0m\u001b[0;32mTrue\u001b[0m\u001b[0;34m)\u001b[0m\u001b[0;34m\u001b[0m\u001b[0;34m\u001b[0m\u001b[0m\n",
      "\u001b[0;31mKeyboardInterrupt\u001b[0m: Interrupted by user"
     ]
    }
   ],
   "source": [
    "import random\n",
    "\n",
    "print(\"welcome to Dungeon crawler 0.0001 - tessa help\")\n",
    "\n",
    "#starting health\n",
    "current_monster_health = 20\n",
    "current_player_health = 20\n",
    "\n",
    "#player actions\n",
    "actions = [\"attack\", \"heal\"]\n",
    "\n",
    "#function determining player dmg\n",
    "def player_dmg_func():\n",
    "    return random.randint(1, 4)\n",
    "\n",
    "#function determining player heal\n",
    "def player_heal_func():\n",
    "    return random.randint(2, 5)\n",
    "\n",
    "#function determining monster dmg\n",
    "def monster_dmg_func():\n",
    "    return random.randint(0, 4)\n",
    "\n",
    "#function asking for input\n",
    "def player_action(actions):\n",
    "    choice = input(\"Actions: attack or heal: \").lower()\n",
    "    while choice not in actions:\n",
    "        print(\"\\nPlease, choose attack, or heal.\\n\")\n",
    "        choice = input(\"Actions: attack or heal: \").lower()\n",
    "    global current_player_health\n",
    "    global current_monster_health\n",
    "    if choice == \"attack\":\n",
    "        player_attacks_monster(current_monster_health)\n",
    "    if choice == \"heal\":\n",
    "        player_heals(current_player_health)\n",
    "\n",
    "#function for player healing\n",
    "def player_heals(value1):\n",
    "    global current_player_health\n",
    "    player_heal_func()\n",
    "    player_heal = player_heal_func()\n",
    "    value1 += player_heal\n",
    "    if value1 > 20:\n",
    "        value1 = 20\n",
    "        print(\"You have maximum health!\")\n",
    "    current_player_health = value1\n",
    "    print(\"You healed, and have\", value1, \"health left\")\n",
    "    monster_attacks_player(current_player_health)\n",
    "\n",
    "#function for player attacks on monster\n",
    "def player_attacks_monster(value2):\n",
    "    global current_monster_health\n",
    "    player_dmg_func()\n",
    "    player_dmg = player_dmg_func()\n",
    "    value2 -= player_dmg\n",
    "    current_monster_health = value2\n",
    "    print(\"You attacked the monster with\", player_dmg, \"attack, it has\", value2, \"health left\")\n",
    "    if value2 <= 0:\n",
    "        print(\"You won!\")\n",
    "    else:\n",
    "        monster_attacks_player(current_player_health)\n",
    "    \n",
    "#function for monster attacks on player\n",
    "def monster_attacks_player(value3):\n",
    "    global current_player_health\n",
    "    monster_dmg_func()\n",
    "    monster_dmg = monster_dmg_func()\n",
    "    value3 -= monster_dmg\n",
    "    current_player_health = value3\n",
    "    print(\"The monster attacked you back with\", monster_dmg,\".\", \"You have\", value3, \"health left\")\n",
    "    if current_player_health <= 0:\n",
    "        print(\"Game over.\")\n",
    "    else:\n",
    "        player_action(actions)\n",
    "\n",
    "player_action(actions)"
   ]
  },
  {
   "cell_type": "code",
   "execution_count": null,
   "metadata": {},
   "outputs": [],
   "source": []
  }
 ],
 "metadata": {
  "kernelspec": {
   "display_name": "Python 3",
   "language": "python",
   "name": "python3"
  },
  "language_info": {
   "codemirror_mode": {
    "name": "ipython",
    "version": 3
   },
   "file_extension": ".py",
   "mimetype": "text/x-python",
   "name": "python",
   "nbconvert_exporter": "python",
   "pygments_lexer": "ipython3",
   "version": "3.8.3"
  }
 },
 "nbformat": 4,
 "nbformat_minor": 4
}

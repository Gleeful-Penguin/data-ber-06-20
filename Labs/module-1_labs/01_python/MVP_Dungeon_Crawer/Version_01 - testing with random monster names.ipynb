{
 "cells": [
  {
   "cell_type": "code",
   "execution_count": 57,
   "metadata": {
    "scrolled": true
   },
   "outputs": [
    {
     "name": "stdout",
     "output_type": "stream",
     "text": [
      "{'worm': '3', 'wasp': '3', 'mosquito': '3', 'rat': '5', 'bat': '5', 'spider': '5', 'snake': '7', 'soldier': '7', 'ooze': '7', 'troll': '9', 'wolf': '9', 'zombie': '9', 'alligator': '11', 'ghoul': '11', 'imp': '11', 'vampire': '13', 'warrior': '13', 'deamon': '13', 'berserker': '15', 'witch': '15', 'giant': '15', 'cyclop': '17', 'centaur': '17', 'griffin': '17', 'yeti': '19', 'werewolf': '19', 'dragon': '21'}\n",
      "{1: 'inhuman', 2: 'voiceless', 3: 'sadistic', 4: 'hideous', 5: 'nameless', 6: 'voiceless', 7: 'dreadful', 8: 'formidable', 9: 'fearsome', 10: 'huge', 11: 'deadly', 12: 'classic', 13: 'horrible', 14: 'bloody', 15: 'evil', 16: 'soulless', 17: 'hideous', 18: 'hungry', 19: 'insane', 20: 'deformed', 21: 'bloodthirsty', 22: 'unnatural', 23: 'mighty', 24: 'corrupted', 25: 'outerdimensional', 26: 'gigantic', 27: 'berserk', 28: 'heartless', 29: 'murderous', 30: 'violent', 31: 'enormous', 32: 'strange-looking', 33: 'powerful', 34: 'shadowy', 35: 'mysterious', 36: 'massive', 37: 'tireless', 38: 'supernatural', 39: 'threatening', 40: 'hostile'}\n",
      "40\n",
      "huge\n",
      "\n",
      "Welcome to Dungeon Crawl 0.1!\n",
      "What is the goal? Kill or be killed!\n",
      "Choose from four different actions every turn: left_attack, center_attack, right_attack, or heal.\n",
      "Kill all monsters and get the epic loot of the dungeon.\n",
      "If your health reaches 0, it is game over.\n",
      "Enjoy,\n",
      "Kosta\n",
      "\n"
     ]
    }
   ],
   "source": [
    "import random\n",
    "\n",
    "#defining player actions\n",
    "actions = [\"left_attack\", \"center_attack\", \"right_attack\", \"heal\"]\n",
    "\n",
    "#defining monster attack options\n",
    "monster_attacks = {0: \"missed_attack\", 2: \"normal_attack\", 4: \"critical_attack\"}\n",
    "\n",
    "#defining pool of monsters\n",
    "monsters = {1: \"worm\", 2: \"wasp\", 3: \"mosquito\", 4: \"rat\", 5: \"bat\", 6: \"spider\", 7: \"snake\", 8: \"soldier\", 9: \"ooze\", \\\n",
    "10: \"troll\", 11: \"wolf\", 12: \"zombie\", 13: \"alligator\", 14: \"ghoul\", 15: \"imp\", 16: \"vampire\", 17: \"warrior\", 18: \"deamon\", \\\n",
    "19: \"berserker\", 20: \"witch\", 21: \"giant\", 22: \"cyclop\", 23: \"centaur\", 24: \"griffin\", 25: \"yeti\", 26: \"werewolf\", 27: \"dragon\"}\n",
    "\n",
    "#pool of monster health values\n",
    "monster_health = {\"worm\": \"3\", \"wasp\": \"3\", \"mosquito\": \"3\", \"rat\": \"5\", \"bat\": \"5\", \"spider\": \"5\", \"snake\": \"7\", \"soldier\": \"7\", \"ooze\": \"7\", \\\n",
    "\"troll\": \"9\", \"wolf\": \"9\", \"zombie\": \"9\", \"alligator\": \"11\", \"ghoul\": \"11\", \"imp\": \"11\", \"vampire\": \"13\", \"warrior\": \"13\", \"deamon\": \"13\", \\\n",
    "\"berserker\": \"15\", \"witch\": \"15\", \"giant\": \"15\", \"cyclop\": \"17\", \"centaur\": \"17\", \"griffin\": \"17\", \"yeti\": \"19\", \"werewolf\": \"19\", \"dragon\": \"21\"}\n",
    "print(monster_health)\n",
    "\n",
    "#pool of monster adjectives\n",
    "monster_adj = {1: \"inhuman\", 2: \"voiceless\", 3: \"sadistic\", 4: \"hideous\", 5: \"nameless\", 6: \"voiceless\", 7: \"dreadful\", 8: \"formidable\", \\\n",
    "9: \"fearsome\", 10: \"huge\", 11: \"deadly\", 12: \"classic\", 13: \"horrible\", 14: \"bloody\", 15: \"evil\", 16: \"soulless\", 17: \"hideous\", 18: \"hungry\", \\\n",
    "19: \"insane\", 20: \"deformed\", 21: \"bloodthirsty\", 22: \"unnatural\", 23: \"mighty\", 24: \"corrupted\", 25: \"outerdimensional\", 26: \"gigantic\", \\\n",
    "27: \"berserk\", 28: \"heartless\", 29: \"murderous\", 30: \"violent\", 31: \"enormous\", 32: \"strange-looking\", 33: \"powerful\", 34: \"shadowy\", 35: \"mysterious\", \\\n",
    "36: \"massive\", 37: \"tireless\", 38: \"supernatural\", 39: \"threatening\", 40: \"hostile\"}\n",
    "\n",
    "#1. generate list of monster encounters\n",
    "fight_encounters = []\n",
    "for i in range(0, 10):\n",
    "    encounter = random.randint(1,27)\n",
    "    fight_encounters.append(encounter)\n",
    "\n",
    "#2. create a list with the 10 monster types\n",
    "monster_types = []\n",
    "for i in fight_encounters:\n",
    "    monster_types.append(monsters[i])\n",
    "\n",
    "#3. create a list with the 10 monster health values\n",
    "monster_hp = []\n",
    "for i in monster_types:\n",
    "    monster_hp.append(monster_health[i])\n",
    "monster_hp = [int(i) for i in monster_hp]\n",
    "\n",
    "#4.1 random list of 10 adj & converting to monster types\n",
    "monster_adj_values = []\n",
    "for i in range(1, 11):\n",
    "    adj_value = random.randint(1,40)\n",
    "    monster_adj_values.append(adj_value)\n",
    "monster_names = []\n",
    "for i in monster_adj_values:\n",
    "    monster_names.append(monster_adj[i])\n",
    "\n",
    "#4.2 creating monster full name (adj + type)\n",
    "monster_full_names = zip(monster_names, monster_types)\n",
    "monster_full_names = set(monster_full_names) \n",
    "monster_full_names2 = []\n",
    "for sublist in monster_full_names:\n",
    "    for item in sublist:\n",
    "        monster_full_names2.append(item)\n",
    "\n",
    "#5 monster_info - dict with names and int(hp) of all monsters\n",
    "monster_full_names3 = []\n",
    "for i in range(0, len(monster_full_names2), 2):\n",
    "    monster_full_names3.append(monster_full_names2[i] + \" \" + monster_full_names2[i+1])\n",
    "monster_info = dict(zip(monster_full_names3, monster_hp))\n",
    "print(monster_info)\n",
    "\n",
    "#Failed dungeon message\n",
    "game_over_msg = r\"\"\"\n",
    "Game over! You were killed!\n",
    "\"\"\"\n",
    "\n",
    "#Failed dungeon message\n",
    "game_won_msg = r\"\"\"\n",
    "You won!\n",
    "Congratulations, you killed all the monsters in the dungeon.\n",
    "You open the chest with epic loot and find this:\n",
    "A gif of a doggo sliding on ice: gph.is/2FH30LZ\n",
    "Thanks for playing!\n",
    "Kosta\n",
    "\"\"\"\n",
    "\n",
    "#Printing welcome message and instructions\n",
    "print(r\"\"\"\n",
    "Welcome to Dungeon Crawl 0.1!\n",
    "What is the goal? Kill or be killed!\n",
    "Choose from four different actions every turn: left_attack, center_attack, right_attack, or heal.\n",
    "Kill all monsters and get the epic loot of the dungeon.\n",
    "If your health reaches 0, it is game over.\n",
    "Enjoy,\n",
    "Kosta\n",
    "\"\"\")\n",
    "\n",
    "#function asking for player action input\n",
    "def player_action(actions):\n",
    "    choice = input(\"What are you going to do? Actions: left_attack, center_attack, right_attack, or heal\").lower()\n",
    "    while choice not in actions:\n",
    "        print(\"\\nPlease, choose one of those actions: left_attack, center_attack, right_attack, or heal.\\n\")\n",
    "        choice = input(\"What are you going to do? Actions: left_attack, center_attack, right_attack, or heal\").lower()\n",
    "    return choice\n"
   ]
  },
  {
   "cell_type": "code",
   "execution_count": 120,
   "metadata": {},
   "outputs": [
    {
     "name": "stdout",
     "output_type": "stream",
     "text": [
      "     _________________     \n",
      "    //   EPIC  LOOT   \\    \n",
      "   //__________________\\   \n",
      "   ||-------| |--------|   \n",
      "   ||       |¡|        |   \n",
      "   ||       ---        |   \n",
      "   ||                  |   \n",
      "   ||__________________|   \n"
     ]
    }
   ],
   "source": [
    "print(\"     _________________     \")\n",
    "print(\"    //   EPIC  LOOT   \\    \")\n",
    "print(\"   //__________________\\   \")\n",
    "print(\"   ||-------| |--------|   \")\n",
    "print(\"   ||       |¡|        |   \")\n",
    "print(\"   ||       ---        |   \")\n",
    "print(\"   ||                  |   \")\n",
    "print(\"   ||__________________|   \")"
   ]
  },
  {
   "cell_type": "code",
   "execution_count": 119,
   "metadata": {
    "scrolled": true
   },
   "outputs": [
    {
     "name": "stdout",
     "output_type": "stream",
     "text": [
      "                /\\                                          \n",
      "    /vvvvvvvvvvvv \\--------------------------------------,  \n",
      "    `^^^^^^^^^^^^ /====================================='   \n",
      "                \\/                                          \n"
     ]
    }
   ],
   "source": [
    "print(\"\"\"                /\\                                          \"\"\")\n",
    "print(\"\"\"    /vvvvvvvvvvvv \\--------------------------------------,  \"\"\")\n",
    "print(\"\"\"    `^^^^^^^^^^^^ /====================================='   \"\"\")\n",
    "print(\"\"\"                \\/                                          \"\"\")"
   ]
  },
  {
   "cell_type": "code",
   "execution_count": 118,
   "metadata": {},
   "outputs": [
    {
     "name": "stdout",
     "output_type": "stream",
     "text": [
      "    |`-._/\\_.-`|    \n",
      "    |    ||    |    \n",
      "    |___o()o___|    \n",
      "    |__((<>))__|    \n",
      "    \\   o\\/o   /    \n",
      "     \\   ||   /     \n",
      "      \\  ||  /      \n",
      "       '.||.'       \n",
      "         ``         \n"
     ]
    }
   ],
   "source": [
    "print(\"\"\"    |`-._/\\_.-`|    \"\"\")\n",
    "print(\"\"\"    |    ||    |    \"\"\")\n",
    "print(\"\"\"    |___o()o___|    \"\"\")\n",
    "print(\"\"\"    |__((<>))__|    \"\"\")\n",
    "print(\"\"\"    \\   o\\/o   /    \"\"\")\n",
    "print(\"\"\"     \\   ||   /     \"\"\")\n",
    "print(\"\"\"      \\  ||  /      \"\"\")\n",
    "print(\"\"\"       '.||.'       \"\"\")\n",
    "print(\"\"\"         ``         \"\"\")"
   ]
  },
  {
   "cell_type": "code",
   "execution_count": 106,
   "metadata": {
    "scrolled": true
   },
   "outputs": [
    {
     "name": "stdout",
     "output_type": "stream",
     "text": [
      "===!=====!====!===!===!=====!===!===!====\n",
      "  /`\\   /`\\  |~| |~|  /)=I=(\\  /`'''`\\   \n",
      " |   `'`   | | | | |  |  :  | |   :   |  \n",
      " '-|     |-' )/\\ )/\\  |  T  \\ '-| : |-'  \n",
      "   |     |  / \\// \\/  (  |\\  |  '---'    \n",
      "   '.___.'  \\_/ \\_/   |  |/  /           \n",
      "                      |  /  /            \n",
      "                      |  \\ /             \n",
      "                      '--'`              \n"
     ]
    }
   ],
   "source": [
    "print(r\"\"\"===!=====!====!===!===!=====!===!===!====\"\"\")\n",
    "print(r\"\"\"  /`\\   /`\\  |~| |~|  /)=I=(\\  /`'''`\\   \"\"\")\n",
    "print(r\"\"\" |   `'`   | | | | |  |  :  | |   :   |  \"\"\")\n",
    "print(r\"\"\" '-|     |-' )/\\ )/\\  |  T  \\ '-| : |-'  \"\"\")\n",
    "print(r\"\"\"   |     |  / \\// \\/  (  |\\  |  '---'    \"\"\")\n",
    "print(r\"\"\"   '.___.'  \\_/ \\_/   |  |/  /           \"\"\")\n",
    "print(r\"\"\"                      |  /  /            \"\"\")               \n",
    "print(r\"\"\"                      |  \\ /             \"\"\")\n",
    "print(r\"\"\"                      '--'`              \"\"\")"
   ]
  },
  {
   "cell_type": "code",
   "execution_count": 111,
   "metadata": {},
   "outputs": [
    {
     "name": "stdout",
     "output_type": "stream",
     "text": [
      "   .:'                                  `:.   \n",
      "  ::'                                    `::  \n",
      " :: :.                                  .: :: \n",
      "  `:. `:.             .             .:'  .:'  \n",
      "   `::. `::           !           ::' .::'    \n",
      "       `::.`::.    .' ! `.    .::'.::'        \n",
      "         `:.  `::::'':!:``::::'   ::'         \n",
      "         :'*:::.  .:' ! `:.  .:::*`:          \n",
      "        :: HHH::.   ` ! '   .::HHH ::         \n",
      "       ::: `H TH::.  `!'  .::HT H' :::        \n",
      "       ::..  `THHH:`:   :':HHHT'  ..::        \n",
      "       `::      `T: `. .' :T'      ::'        \n",
      "         `:. .   :         :   . .:'          \n",
      "           `::'               `::'            \n",
      "             :'  .`.  .  .'.  `:              \n",
      "             :' ::.       .:: `:              \n",
      "             :' `:::     :::' `:              \n",
      "              `.  ``     ''  .'               \n",
      "               :`...........':                \n",
      "               ` :`.     .': '                \n",
      "                `:  `''''  :'                 \n",
      "                                              \n",
      "  Original art from asciiart.website and .eu  \n"
     ]
    }
   ],
   "source": [
    "print(r\"\"\"   .:'                                  `:.   \"\"\")\n",
    "print(r\"\"\"  ::'                                    `::  \"\"\")\n",
    "print(r\"\"\" :: :.                                  .: :: \"\"\")\n",
    "print(r\"\"\"  `:. `:.             .             .:'  .:'  \"\"\")\n",
    "print(r\"\"\"   `::. `::           !           ::' .::'    \"\"\")\n",
    "print(r\"\"\"       `::.`::.    .' ! `.    .::'.::'        \"\"\")\n",
    "print(r\"\"\"         `:.  `::::'':!:``::::'   ::'         \"\"\")\n",
    "print(r\"\"\"         :'*:::.  .:' ! `:.  .:::*`:          \"\"\")\n",
    "print(r\"\"\"        :: HHH::.   ` ! '   .::HHH ::         \"\"\")\n",
    "print(r\"\"\"       ::: `H TH::.  `!'  .::HT H' :::        \"\"\")\n",
    "print(r\"\"\"       ::..  `THHH:`:   :':HHHT'  ..::        \"\"\")\n",
    "print(r\"\"\"       `::      `T: `. .' :T'      ::'        \"\"\")\n",
    "print(r\"\"\"         `:. .   :         :   . .:'          \"\"\")\n",
    "print(r\"\"\"           `::'               `::'            \"\"\")\n",
    "print(r\"\"\"             :'  .`.  .  .'.  `:              \"\"\")\n",
    "print(r\"\"\"             :' ::.       .:: `:              \"\"\")\n",
    "print(r\"\"\"             :' `:::     :::' `:              \"\"\")\n",
    "print(r\"\"\"              `.  ``     ''  .'               \"\"\")\n",
    "print(r\"\"\"               :`...........':                \"\"\")\n",
    "print(r\"\"\"               ` :`.     .': '                \"\"\")\n",
    "print(r\"\"\"                `:  `''''  :'                 \"\"\")\n",
    "print(r\"\"\"                                              \"\"\")\n",
    "print(r\"\"\"  Original art from asciiart.website and .eu  \"\"\")"
   ]
  },
  {
   "cell_type": "code",
   "execution_count": 117,
   "metadata": {},
   "outputs": [
    {
     "name": "stdout",
     "output_type": "stream",
     "text": [
      "   ********************************************************************************   \n",
      "  *                    /   \\              /'\\       _                              *  \n",
      "  *\\_..           /'.,/     \\_         .,'   \\     / \\_                            *  \n",
      "  *    \\         /            \\      _/       \\_  /    \\     _                     *  \n",
      "  *     \\__,.   /              \\    /           \\/.,   _|  _/ \\                    *  \n",
      "  *          \\_/                \\  /',.,''\\      \\_ \\_/  \\/    \\                   *  \n",
      "  *                           _  \\/   /    ',../',.\\    _/      \\                  *  \n",
      "  *             /           _/m\\  \\  /    |         \\  /.,/'\\   _\\                 *  \n",
      "  *           _/           /MMmm\\  \\_     |          \\/      \\_/  \\                *  \n",
      "  *          /      \\     |MMMMmm|   \\__   \\          \\_       \\   \\_              *  \n",
      "  *                  \\   /MMMMMMm|      \\   \\           \\       \\    \\             *  \n",
      "  *                   \\  |MMMMMMmm\\      \\___            \\_      \\_   \\            *  \n",
      "  *                    \\|MMMMMMMMmm|____.'  /\\_            \\       \\   \\_          *  \n",
      "  *                    /'.,___________...,,'   \\            \\   \\        \\         *  \n",
      "  *                   /       \\          |      \\    |__     \\   \\_       \\        *  \n",
      "  *                 _/        |           \\      \\_     \\     \\    \\       \\_      *  \n",
      "  *                /                               \\     \\     \\_   \\        \\     *  \n",
      "  *                                                 \\     \\      \\   \\__      \\    *  \n",
      "  *                                                  \\     \\_     \\     \\      \\   *  \n",
      "  *                                                   |      \\     \\     \\      \\  *  \n",
      "  *                                                    \\            |            \\ *  \n",
      "   ********************************************************************************   \n"
     ]
    }
   ],
   "source": [
    "print(r\"\"\"   ********************************************************************************   \"\"\")\n",
    "print(r\"\"\"  *                    /   \\              /'\\       _                              *  \"\"\")\n",
    "print(r\"\"\"  *\\_..           /'.,/     \\_         .,'   \\     / \\_                            *  \"\"\")\n",
    "print(r\"\"\"  *    \\         /            \\      _/       \\_  /    \\     _                     *  \"\"\")\n",
    "print(r\"\"\"  *     \\__,.   /              \\    /           \\/.,   _|  _/ \\                    *  \"\"\")\n",
    "print(r\"\"\"  *          \\_/                \\  /',.,''\\      \\_ \\_/  \\/    \\                   *  \"\"\")\n",
    "print(r\"\"\"  *                           _  \\/   /    ',../',.\\    _/      \\                  *  \"\"\")\n",
    "print(r\"\"\"  *             /           _/m\\  \\  /    |         \\  /.,/'\\   _\\                 *  \"\"\")\n",
    "print(r\"\"\"  *           _/           /MMmm\\  \\_     |          \\/      \\_/  \\                *  \"\"\")\n",
    "print(r\"\"\"  *          /      \\     |MMMMmm|   \\__   \\          \\_       \\   \\_              *  \"\"\")\n",
    "print(r\"\"\"  *                  \\   /MMMMMMm|      \\   \\           \\       \\    \\             *  \"\"\")\n",
    "print(r\"\"\"  *                   \\  |MMMMMMmm\\      \\___            \\_      \\_   \\            *  \"\"\")\n",
    "print(r\"\"\"  *                    \\|MMMMMMMMmm|____.'  /\\_            \\       \\   \\_          *  \"\"\")\n",
    "print(r\"\"\"  *                    /'.,___________...,,'   \\            \\   \\        \\         *  \"\"\")\n",
    "print(r\"\"\"  *                   /       \\          |      \\    |__     \\   \\_       \\        *  \"\"\")\n",
    "print(r\"\"\"  *                 _/        |           \\      \\_     \\     \\    \\       \\_      *  \"\"\")\n",
    "print(r\"\"\"  *                /                               \\     \\     \\_   \\        \\     *  \"\"\")\n",
    "print(r\"\"\"  *                                                 \\     \\      \\   \\__      \\    *  \"\"\")\n",
    "print(r\"\"\"  *                                                  \\     \\_     \\     \\      \\   *  \"\"\")\n",
    "print(r\"\"\"  *                                                   |      \\     \\     \\      \\  *  \"\"\")\n",
    "print(r\"\"\"  *                                                    \\            |            \\ *  \"\"\")\n",
    "print(r\"\"\"   ********************************************************************************   \"\"\")"
   ]
  },
  {
   "cell_type": "code",
   "execution_count": 97,
   "metadata": {},
   "outputs": [
    {
     "name": "stdout",
     "output_type": "stream",
     "text": [
      "{'hideous wolf': 3, 'soulless warrior': 11, 'gigantic worm': 13, 'enormous ghoul': 19, 'mysterious werewolf': 7, 'corrupted cyclop': 9, 'mysterious mosquito': 17, 'sadistic worm': 3, 'bloodthirsty snake': 3, 'supernatural worm': 3}\n"
     ]
    }
   ],
   "source": [
    "fight_encounters = []\n",
    "for i in range(0, 10):\n",
    "    encounter = random.randint(1,27)\n",
    "    fight_encounters.append(encounter)\n",
    "\n",
    "#2. create a list with the 10 monster types\n",
    "monster_types = []\n",
    "for i in fight_encounters:\n",
    "    monster_types.append(monsters[i])\n",
    "\n",
    "#3. create a list with the 10 monster health values\n",
    "monster_hp = []\n",
    "for i in monster_types:\n",
    "    monster_hp.append(monster_health[i])\n",
    "monster_hp = [int(i) for i in monster_hp]\n",
    "\n",
    "#4.1 random list of 10 adj & converting to monster types\n",
    "monster_adj_values = []\n",
    "for i in range(1, 11):\n",
    "    adj_value = random.randint(1,40)\n",
    "    monster_adj_values.append(adj_value)\n",
    "monster_names = []\n",
    "for i in monster_adj_values:\n",
    "    monster_names.append(monster_adj[i])\n",
    "\n",
    "#4.2 creating monster full name (adj + type)\n",
    "monster_full_names = zip(monster_names, monster_types)\n",
    "monster_full_names = set(monster_full_names) \n",
    "monster_full_names2 = []\n",
    "for sublist in monster_full_names:\n",
    "    for item in sublist:\n",
    "        monster_full_names2.append(item)\n",
    "\n",
    "#4.3 monster_info - dict with names and int(hp) of all monsters\n",
    "monster_full_names3 = []\n",
    "for i in range(0, len(monster_full_names2), 2):\n",
    "    monster_full_names3.append(monster_full_names2[i] + \" \" + monster_full_names2[i+1])\n",
    "monster_info = dict(zip(monster_full_names3, monster_hp))\n",
    "print(monster_info)\n"
   ]
  },
  {
   "cell_type": "code",
   "execution_count": 10,
   "metadata": {},
   "outputs": [
    {
     "ename": "KeyboardInterrupt",
     "evalue": "Interrupted by user",
     "output_type": "error",
     "traceback": [
      "\u001b[0;31m---------------------------------------------------------------------------\u001b[0m",
      "\u001b[0;31mKeyboardInterrupt\u001b[0m                         Traceback (most recent call last)",
      "\u001b[0;32m<ipython-input-10-9f24bb33af8b>\u001b[0m in \u001b[0;36m<module>\u001b[0;34m\u001b[0m\n\u001b[1;32m     47\u001b[0m         \u001b[0mplayer_action\u001b[0m\u001b[0;34m(\u001b[0m\u001b[0mactions\u001b[0m\u001b[0;34m)\u001b[0m\u001b[0;34m\u001b[0m\u001b[0;34m\u001b[0m\u001b[0m\n\u001b[1;32m     48\u001b[0m \u001b[0;34m\u001b[0m\u001b[0m\n\u001b[0;32m---> 49\u001b[0;31m \u001b[0mplayer_action\u001b[0m\u001b[0;34m(\u001b[0m\u001b[0mactions\u001b[0m\u001b[0;34m)\u001b[0m\u001b[0;34m\u001b[0m\u001b[0;34m\u001b[0m\u001b[0m\n\u001b[0m",
      "\u001b[0;32m<ipython-input-10-9f24bb33af8b>\u001b[0m in \u001b[0;36mplayer_action\u001b[0;34m(actions)\u001b[0m\n\u001b[1;32m     18\u001b[0m \u001b[0;31m#function asking for input\u001b[0m\u001b[0;34m\u001b[0m\u001b[0;34m\u001b[0m\u001b[0;34m\u001b[0m\u001b[0m\n\u001b[1;32m     19\u001b[0m \u001b[0;32mdef\u001b[0m \u001b[0mplayer_action\u001b[0m\u001b[0;34m(\u001b[0m\u001b[0mactions\u001b[0m\u001b[0;34m)\u001b[0m\u001b[0;34m:\u001b[0m\u001b[0;34m\u001b[0m\u001b[0;34m\u001b[0m\u001b[0m\n\u001b[0;32m---> 20\u001b[0;31m     \u001b[0mchoice\u001b[0m \u001b[0;34m=\u001b[0m \u001b[0minput\u001b[0m\u001b[0;34m(\u001b[0m\u001b[0;34m\"Actions: attack or heal\"\u001b[0m\u001b[0;34m)\u001b[0m\u001b[0;34m.\u001b[0m\u001b[0mlower\u001b[0m\u001b[0;34m(\u001b[0m\u001b[0;34m)\u001b[0m\u001b[0;34m\u001b[0m\u001b[0;34m\u001b[0m\u001b[0m\n\u001b[0m\u001b[1;32m     21\u001b[0m     \u001b[0;32mwhile\u001b[0m \u001b[0mchoice\u001b[0m \u001b[0;32mnot\u001b[0m \u001b[0;32min\u001b[0m \u001b[0mactions\u001b[0m\u001b[0;34m:\u001b[0m\u001b[0;34m\u001b[0m\u001b[0;34m\u001b[0m\u001b[0m\n\u001b[1;32m     22\u001b[0m         \u001b[0mprint\u001b[0m\u001b[0;34m(\u001b[0m\u001b[0;34m\"\\nPlease, choose attack, or heal.\\n\"\u001b[0m\u001b[0;34m)\u001b[0m\u001b[0;34m\u001b[0m\u001b[0;34m\u001b[0m\u001b[0m\n",
      "\u001b[0;32m~/opt/miniconda3/envs/Boogie_Woogie/lib/python3.8/site-packages/ipykernel/kernelbase.py\u001b[0m in \u001b[0;36mraw_input\u001b[0;34m(self, prompt)\u001b[0m\n\u001b[1;32m    858\u001b[0m                 \u001b[0;34m\"raw_input was called, but this frontend does not support input requests.\"\u001b[0m\u001b[0;34m\u001b[0m\u001b[0;34m\u001b[0m\u001b[0m\n\u001b[1;32m    859\u001b[0m             )\n\u001b[0;32m--> 860\u001b[0;31m         return self._input_request(str(prompt),\n\u001b[0m\u001b[1;32m    861\u001b[0m             \u001b[0mself\u001b[0m\u001b[0;34m.\u001b[0m\u001b[0m_parent_ident\u001b[0m\u001b[0;34m,\u001b[0m\u001b[0;34m\u001b[0m\u001b[0;34m\u001b[0m\u001b[0m\n\u001b[1;32m    862\u001b[0m             \u001b[0mself\u001b[0m\u001b[0;34m.\u001b[0m\u001b[0m_parent_header\u001b[0m\u001b[0;34m,\u001b[0m\u001b[0;34m\u001b[0m\u001b[0;34m\u001b[0m\u001b[0m\n",
      "\u001b[0;32m~/opt/miniconda3/envs/Boogie_Woogie/lib/python3.8/site-packages/ipykernel/kernelbase.py\u001b[0m in \u001b[0;36m_input_request\u001b[0;34m(self, prompt, ident, parent, password)\u001b[0m\n\u001b[1;32m    902\u001b[0m             \u001b[0;32mexcept\u001b[0m \u001b[0mKeyboardInterrupt\u001b[0m\u001b[0;34m:\u001b[0m\u001b[0;34m\u001b[0m\u001b[0;34m\u001b[0m\u001b[0m\n\u001b[1;32m    903\u001b[0m                 \u001b[0;31m# re-raise KeyboardInterrupt, to truncate traceback\u001b[0m\u001b[0;34m\u001b[0m\u001b[0;34m\u001b[0m\u001b[0;34m\u001b[0m\u001b[0m\n\u001b[0;32m--> 904\u001b[0;31m                 \u001b[0;32mraise\u001b[0m \u001b[0mKeyboardInterrupt\u001b[0m\u001b[0;34m(\u001b[0m\u001b[0;34m\"Interrupted by user\"\u001b[0m\u001b[0;34m)\u001b[0m \u001b[0;32mfrom\u001b[0m \u001b[0;32mNone\u001b[0m\u001b[0;34m\u001b[0m\u001b[0;34m\u001b[0m\u001b[0m\n\u001b[0m\u001b[1;32m    905\u001b[0m             \u001b[0;32mexcept\u001b[0m \u001b[0mException\u001b[0m \u001b[0;32mas\u001b[0m \u001b[0me\u001b[0m\u001b[0;34m:\u001b[0m\u001b[0;34m\u001b[0m\u001b[0;34m\u001b[0m\u001b[0m\n\u001b[1;32m    906\u001b[0m                 \u001b[0mself\u001b[0m\u001b[0;34m.\u001b[0m\u001b[0mlog\u001b[0m\u001b[0;34m.\u001b[0m\u001b[0mwarning\u001b[0m\u001b[0;34m(\u001b[0m\u001b[0;34m\"Invalid Message:\"\u001b[0m\u001b[0;34m,\u001b[0m \u001b[0mexc_info\u001b[0m\u001b[0;34m=\u001b[0m\u001b[0;32mTrue\u001b[0m\u001b[0;34m)\u001b[0m\u001b[0;34m\u001b[0m\u001b[0;34m\u001b[0m\u001b[0m\n",
      "\u001b[0;31mKeyboardInterrupt\u001b[0m: Interrupted by user"
     ]
    }
   ],
   "source": [
    "import random\n",
    "\n",
    "#starting health\n",
    "current_monster_health = 20\n",
    "current_player_health = 20\n",
    "\n",
    "#player actions\n",
    "actions = [\"attack\", \"heal\"]\n",
    "\n",
    "#function determining player dmg\n",
    "def player_dmg_func():\n",
    "    return random.randint(1, 4)\n",
    "\n",
    "#function determining monster dmg\n",
    "def monster_dmg_func():\n",
    "    return random.randint(0, 4)\n",
    "\n",
    "#function asking for input\n",
    "def player_action(actions):\n",
    "    choice = input(\"Actions: attack or heal\").lower()\n",
    "    while choice not in actions:\n",
    "        print(\"\\nPlease, choose attack, or heal.\\n\")\n",
    "        choice = input(\"Actions: attack or heal\").lower()\n",
    "    if choice == \"attack\":\n",
    "        player_attacks_monster(current_monster_health)\n",
    "\n",
    "#function for player attacks on monster\n",
    "def player_attacks_monster(current_monster_health):\n",
    "    player_dmg_func()\n",
    "    player_dmg = player_dmg_func()\n",
    "    current_monster_health = current_monster_health - player_dmg\n",
    "    print(\"You attacked the monster with\", player_dmg, \"attack, it has\", current_monster_health, \"health left\")\n",
    "    if current_monster_health <= 0:\n",
    "        print(\"You won!\")\n",
    "    else:\n",
    "        monster_attacks_player(current_player_health)\n",
    "\n",
    "#function for monster attacks on player\n",
    "def monster_attacks_player(current_player_health):\n",
    "    monster_dmg_func()\n",
    "    monster_dmg = monster_dmg_func()\n",
    "    current_player_health = current_player_health - monster_dmg\n",
    "    print(\"The monster attacked you back with\", monster_dmg,\".\", \"You have\", current_player_health, \"health left\")\n",
    "    if current_player_health <= 0:\n",
    "        print(\"Game over.\")\n",
    "    else:\n",
    "        player_action(actions)\n",
    "\n",
    "player_action(actions)"
   ]
  },
  {
   "cell_type": "code",
   "execution_count": null,
   "metadata": {},
   "outputs": [],
   "source": []
  }
 ],
 "metadata": {
  "kernelspec": {
   "display_name": "Python 3",
   "language": "python",
   "name": "python3"
  },
  "language_info": {
   "codemirror_mode": {
    "name": "ipython",
    "version": 3
   },
   "file_extension": ".py",
   "mimetype": "text/x-python",
   "name": "python",
   "nbconvert_exporter": "python",
   "pygments_lexer": "ipython3",
   "version": "3.8.3"
  }
 },
 "nbformat": 4,
 "nbformat_minor": 4
}
